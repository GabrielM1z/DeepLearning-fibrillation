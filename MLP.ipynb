{
 "cells": [
  {
   "cell_type": "code",
   "execution_count": 66,
   "metadata": {},
   "outputs": [],
   "source": [
    "import pandas as pd\n",
    "import numpy as np\n",
    "import scipy.io\n",
    "import os\n",
    "import matplotlib.pyplot as plt\n",
    "from sklearn.model_selection import train_test_split\n",
    "from sklearn.preprocessing import StandardScaler\n",
    "from sklearn.utils import class_weight\n",
    "from tensorflow import keras\n",
    "from tensorflow.keras import layers\n",
    "from datasetResize import *\n",
    "from sklearn.metrics import classification_report\n"
   ]
  },
  {
   "cell_type": "code",
   "execution_count": 48,
   "metadata": {},
   "outputs": [
    {
     "name": "stdout",
     "output_type": "stream",
     "text": [
      "  filename label\n",
      "0   A00001     N\n",
      "1   A00002     N\n",
      "2   A00003     N\n",
      "3   A00004     A\n",
      "4   A00005     A\n"
     ]
    }
   ],
   "source": [
    "# lecture du excel\n",
    "labels_df = pd.read_csv('REFERENCE-V3.csv', header=None)\n",
    "labels_df.columns = ['filename', 'label']\n",
    "\n",
    "print(labels_df.head())"
   ]
  },
  {
   "cell_type": "code",
   "execution_count": 50,
   "metadata": {},
   "outputs": [],
   "source": [
    "# Charger tous les signaux et leurs labels\n",
    "labels = []\n",
    "signals = []\n",
    "signals_padded = []\n",
    "signals_truncated = []\n",
    "signals_interpolated = []\n",
    "\n",
    "# Initialiser avec les paramètres pour le redimensionnement\n",
    "ecg_resizer_max = ECGResizing(target_length=18286)\n",
    "ecg_resizer_med = ECGResizing(target_length=9000)\n",
    "\n",
    "for index, row in labels_df.iterrows():\n",
    "    \n",
    "    labels.append(row['label'])\n",
    "    filename = row['filename']\n",
    "    # Charger un signal ECG\n",
    "    signal = ecg_resizer_max.load_ecg(f'training2017/{filename}.mat')\n",
    "    #signals = np.append(signals,[[signal]])\n",
    "    signals.append(signal)\n",
    "\n",
    "    # Appliquer le zero padding\n",
    "    signal_padded = ecg_resizer_max.resize_signal(signal, method='padding')\n",
    "    signals_padded.append(signal_padded)\n",
    "\n",
    "    # Appliquer le tronquage\n",
    "    signal_truncated = ecg_resizer_med.resize_signal(signal, method='padding')\n",
    "    signals_truncated.append(signal_truncated)\n",
    "\n",
    "    # Appliquer l'interpolation\n",
    "    signal_interpolated = ecg_resizer_med.resize_signal(signal, method='interpolate')\n",
    "    signals_interpolated.append(signal_interpolated)\n",
    "\n"
   ]
  },
  {
   "cell_type": "code",
   "execution_count": 51,
   "metadata": {},
   "outputs": [
    {
     "name": "stdout",
     "output_type": "stream",
     "text": [
      "9000\n",
      "18286\n",
      "9000\n",
      "9000\n"
     ]
    }
   ],
   "source": [
    "print(len(signals[0]))\n",
    "print(len(signals_padded[0]))\n",
    "print(len(signals_truncated[0]))\n",
    "print(len(signals_interpolated[0]))"
   ]
  },
  {
   "cell_type": "code",
   "execution_count": 52,
   "metadata": {},
   "outputs": [],
   "source": [
    "labels = np.array(labels)\n",
    "signals_padded = np.array(signals_padded)\n",
    "signals_truncated = np.array(signals_truncated)\n",
    "signals_interpolated = np.array(signals_interpolated)\n",
    "\n",
    "\n",
    "# Encoder les labels\n",
    "label_mapping = {'N': 0, 'A': 1, 'O': 2, '~': 3}\n",
    "labels_encoded = np.vectorize(label_mapping.get)(labels)\n"
   ]
  },
  {
   "cell_type": "code",
   "execution_count": 62,
   "metadata": {},
   "outputs": [
    {
     "name": "stdout",
     "output_type": "stream",
     "text": [
      "Ensemble d'entraînement : (6822, 18286), Ensemble de test : (1706, 18286)\n"
     ]
    }
   ],
   "source": [
    "# Diviser en ensembles d'entraînement et de test\n",
    "#X_train_signals, X_test_signals, y_train_signals, y_test_signals = train_test_split(signals, labels_encoded, test_size=0.2, stratify=labels, random_state=42)\n",
    "X_train_padded, X_test_padded, y_train_padded, y_test_padded = train_test_split(signals_padded, labels_encoded, test_size=0.2, stratify=labels, random_state=42)\n",
    "X_train_truncated, X_test_truncated, y_train_truncated, y_test_truncated = train_test_split(signals_truncated, labels_encoded, test_size=0.2, stratify=labels, random_state=42)\n",
    "X_train_interpolated, X_test_interpolated, y_train_interpolated, y_test_interpolated = train_test_split(signals_interpolated, labels_encoded, test_size=0.2, stratify=labels, random_state=42)\n",
    "\n",
    "# Afficher les formes des ensembles\n",
    "print(f'Ensemble d\\'entraînement : {X_train_padded.shape}, Ensemble de test : {X_test_padded.shape}')"
   ]
  },
  {
   "cell_type": "code",
   "execution_count": 80,
   "metadata": {},
   "outputs": [
    {
     "name": "stderr",
     "output_type": "stream",
     "text": [
      "c:\\Users\\Albus\\anaconda3\\Lib\\site-packages\\keras\\src\\layers\\core\\dense.py:87: UserWarning: Do not pass an `input_shape`/`input_dim` argument to a layer. When using Sequential models, prefer using an `Input(shape)` object as the first layer in the model instead.\n",
      "  super().__init__(activity_regularizer=activity_regularizer, **kwargs)\n"
     ]
    },
    {
     "data": {
      "text/html": [
       "<pre style=\"white-space:pre;overflow-x:auto;line-height:normal;font-family:Menlo,'DejaVu Sans Mono',consolas,'Courier New',monospace\"><span style=\"font-weight: bold\">Model: \"sequential_5\"</span>\n",
       "</pre>\n"
      ],
      "text/plain": [
       "\u001b[1mModel: \"sequential_5\"\u001b[0m\n"
      ]
     },
     "metadata": {},
     "output_type": "display_data"
    },
    {
     "data": {
      "text/html": [
       "<pre style=\"white-space:pre;overflow-x:auto;line-height:normal;font-family:Menlo,'DejaVu Sans Mono',consolas,'Courier New',monospace\">┏━━━━━━━━━━━━━━━━━━━━━━━━━━━━━━━━━┳━━━━━━━━━━━━━━━━━━━━━━━━┳━━━━━━━━━━━━━━━┓\n",
       "┃<span style=\"font-weight: bold\"> Layer (type)                    </span>┃<span style=\"font-weight: bold\"> Output Shape           </span>┃<span style=\"font-weight: bold\">       Param # </span>┃\n",
       "┡━━━━━━━━━━━━━━━━━━━━━━━━━━━━━━━━━╇━━━━━━━━━━━━━━━━━━━━━━━━╇━━━━━━━━━━━━━━━┩\n",
       "│ dense_15 (<span style=\"color: #0087ff; text-decoration-color: #0087ff\">Dense</span>)                │ (<span style=\"color: #00d7ff; text-decoration-color: #00d7ff\">None</span>, <span style=\"color: #00af00; text-decoration-color: #00af00\">128</span>)            │     <span style=\"color: #00af00; text-decoration-color: #00af00\">2,340,736</span> │\n",
       "├─────────────────────────────────┼────────────────────────┼───────────────┤\n",
       "│ dense_16 (<span style=\"color: #0087ff; text-decoration-color: #0087ff\">Dense</span>)                │ (<span style=\"color: #00d7ff; text-decoration-color: #00d7ff\">None</span>, <span style=\"color: #00af00; text-decoration-color: #00af00\">32</span>)             │         <span style=\"color: #00af00; text-decoration-color: #00af00\">4,128</span> │\n",
       "├─────────────────────────────────┼────────────────────────┼───────────────┤\n",
       "│ dense_17 (<span style=\"color: #0087ff; text-decoration-color: #0087ff\">Dense</span>)                │ (<span style=\"color: #00d7ff; text-decoration-color: #00d7ff\">None</span>, <span style=\"color: #00af00; text-decoration-color: #00af00\">4</span>)              │           <span style=\"color: #00af00; text-decoration-color: #00af00\">132</span> │\n",
       "└─────────────────────────────────┴────────────────────────┴───────────────┘\n",
       "</pre>\n"
      ],
      "text/plain": [
       "┏━━━━━━━━━━━━━━━━━━━━━━━━━━━━━━━━━┳━━━━━━━━━━━━━━━━━━━━━━━━┳━━━━━━━━━━━━━━━┓\n",
       "┃\u001b[1m \u001b[0m\u001b[1mLayer (type)                   \u001b[0m\u001b[1m \u001b[0m┃\u001b[1m \u001b[0m\u001b[1mOutput Shape          \u001b[0m\u001b[1m \u001b[0m┃\u001b[1m \u001b[0m\u001b[1m      Param #\u001b[0m\u001b[1m \u001b[0m┃\n",
       "┡━━━━━━━━━━━━━━━━━━━━━━━━━━━━━━━━━╇━━━━━━━━━━━━━━━━━━━━━━━━╇━━━━━━━━━━━━━━━┩\n",
       "│ dense_15 (\u001b[38;5;33mDense\u001b[0m)                │ (\u001b[38;5;45mNone\u001b[0m, \u001b[38;5;34m128\u001b[0m)            │     \u001b[38;5;34m2,340,736\u001b[0m │\n",
       "├─────────────────────────────────┼────────────────────────┼───────────────┤\n",
       "│ dense_16 (\u001b[38;5;33mDense\u001b[0m)                │ (\u001b[38;5;45mNone\u001b[0m, \u001b[38;5;34m32\u001b[0m)             │         \u001b[38;5;34m4,128\u001b[0m │\n",
       "├─────────────────────────────────┼────────────────────────┼───────────────┤\n",
       "│ dense_17 (\u001b[38;5;33mDense\u001b[0m)                │ (\u001b[38;5;45mNone\u001b[0m, \u001b[38;5;34m4\u001b[0m)              │           \u001b[38;5;34m132\u001b[0m │\n",
       "└─────────────────────────────────┴────────────────────────┴───────────────┘\n"
      ]
     },
     "metadata": {},
     "output_type": "display_data"
    },
    {
     "data": {
      "text/html": [
       "<pre style=\"white-space:pre;overflow-x:auto;line-height:normal;font-family:Menlo,'DejaVu Sans Mono',consolas,'Courier New',monospace\"><span style=\"font-weight: bold\"> Total params: </span><span style=\"color: #00af00; text-decoration-color: #00af00\">2,344,996</span> (8.95 MB)\n",
       "</pre>\n"
      ],
      "text/plain": [
       "\u001b[1m Total params: \u001b[0m\u001b[38;5;34m2,344,996\u001b[0m (8.95 MB)\n"
      ]
     },
     "metadata": {},
     "output_type": "display_data"
    },
    {
     "data": {
      "text/html": [
       "<pre style=\"white-space:pre;overflow-x:auto;line-height:normal;font-family:Menlo,'DejaVu Sans Mono',consolas,'Courier New',monospace\"><span style=\"font-weight: bold\"> Trainable params: </span><span style=\"color: #00af00; text-decoration-color: #00af00\">2,344,996</span> (8.95 MB)\n",
       "</pre>\n"
      ],
      "text/plain": [
       "\u001b[1m Trainable params: \u001b[0m\u001b[38;5;34m2,344,996\u001b[0m (8.95 MB)\n"
      ]
     },
     "metadata": {},
     "output_type": "display_data"
    },
    {
     "data": {
      "text/html": [
       "<pre style=\"white-space:pre;overflow-x:auto;line-height:normal;font-family:Menlo,'DejaVu Sans Mono',consolas,'Courier New',monospace\"><span style=\"font-weight: bold\"> Non-trainable params: </span><span style=\"color: #00af00; text-decoration-color: #00af00\">0</span> (0.00 B)\n",
       "</pre>\n"
      ],
      "text/plain": [
       "\u001b[1m Non-trainable params: \u001b[0m\u001b[38;5;34m0\u001b[0m (0.00 B)\n"
      ]
     },
     "metadata": {},
     "output_type": "display_data"
    }
   ],
   "source": [
    "# Créer le modèle MLP\n",
    "model_padded = keras.Sequential([\n",
    "    layers.Dense(128, activation='relu', input_shape=(X_train_padded.shape[1],)),  # Couche d'entrée\n",
    "    layers.Dense(32, activation='relu'),  # Couche cachée\n",
    "    layers.Dense(4, activation='softmax')  # Couche de sortie (4 classes)\n",
    "])\n",
    "\n",
    "\n",
    "model_padded.compile(optimizer='adam',\n",
    "              loss='sparse_categorical_crossentropy',\n",
    "              metrics=['accuracy'])\n",
    "\n",
    "# Résumé du modèle\n",
    "model_padded.summary()"
   ]
  },
  {
   "cell_type": "code",
   "execution_count": 81,
   "metadata": {},
   "outputs": [
    {
     "name": "stdout",
     "output_type": "stream",
     "text": [
      "Epoch 1/20\n",
      "\u001b[1m171/171\u001b[0m \u001b[32m━━━━━━━━━━━━━━━━━━━━\u001b[0m\u001b[37m\u001b[0m \u001b[1m2s\u001b[0m 10ms/step - accuracy: 0.2607 - loss: 436.9254 - val_accuracy: 0.2945 - val_loss: 187.3676\n",
      "Epoch 2/20\n",
      "\u001b[1m171/171\u001b[0m \u001b[32m━━━━━━━━━━━━━━━━━━━━\u001b[0m\u001b[37m\u001b[0m \u001b[1m2s\u001b[0m 9ms/step - accuracy: 0.3275 - loss: 85.1002 - val_accuracy: 0.1604 - val_loss: 80.9074\n",
      "Epoch 3/20\n",
      "\u001b[1m171/171\u001b[0m \u001b[32m━━━━━━━━━━━━━━━━━━━━\u001b[0m\u001b[37m\u001b[0m \u001b[1m2s\u001b[0m 9ms/step - accuracy: 0.2849 - loss: 31.6229 - val_accuracy: 0.1612 - val_loss: 64.1515\n",
      "Epoch 4/20\n",
      "\u001b[1m171/171\u001b[0m \u001b[32m━━━━━━━━━━━━━━━━━━━━\u001b[0m\u001b[37m\u001b[0m \u001b[1m2s\u001b[0m 9ms/step - accuracy: 0.4716 - loss: 14.1036 - val_accuracy: 0.4418 - val_loss: 51.4643\n",
      "Epoch 5/20\n",
      "\u001b[1m171/171\u001b[0m \u001b[32m━━━━━━━━━━━━━━━━━━━━\u001b[0m\u001b[37m\u001b[0m \u001b[1m2s\u001b[0m 9ms/step - accuracy: 0.5790 - loss: 13.5327 - val_accuracy: 0.4659 - val_loss: 43.2177\n",
      "Epoch 6/20\n",
      "\u001b[1m171/171\u001b[0m \u001b[32m━━━━━━━━━━━━━━━━━━━━\u001b[0m\u001b[37m\u001b[0m \u001b[1m2s\u001b[0m 9ms/step - accuracy: 0.5980 - loss: 4.3711 - val_accuracy: 0.5055 - val_loss: 33.2677\n",
      "Epoch 7/20\n",
      "\u001b[1m171/171\u001b[0m \u001b[32m━━━━━━━━━━━━━━━━━━━━\u001b[0m\u001b[37m\u001b[0m \u001b[1m2s\u001b[0m 9ms/step - accuracy: 0.6247 - loss: 2.2423 - val_accuracy: 0.5055 - val_loss: 30.1341\n",
      "Epoch 8/20\n",
      "\u001b[1m171/171\u001b[0m \u001b[32m━━━━━━━━━━━━━━━━━━━━\u001b[0m\u001b[37m\u001b[0m \u001b[1m2s\u001b[0m 9ms/step - accuracy: 0.6268 - loss: 1.7914 - val_accuracy: 0.5128 - val_loss: 27.3875\n",
      "Epoch 9/20\n",
      "\u001b[1m171/171\u001b[0m \u001b[32m━━━━━━━━━━━━━━━━━━━━\u001b[0m\u001b[37m\u001b[0m \u001b[1m2s\u001b[0m 9ms/step - accuracy: 0.6385 - loss: 1.1602 - val_accuracy: 0.5165 - val_loss: 26.9320\n",
      "Epoch 10/20\n",
      "\u001b[1m171/171\u001b[0m \u001b[32m━━━━━━━━━━━━━━━━━━━━\u001b[0m\u001b[37m\u001b[0m \u001b[1m2s\u001b[0m 9ms/step - accuracy: 0.6293 - loss: 1.0614 - val_accuracy: 0.5187 - val_loss: 26.7916\n",
      "Epoch 11/20\n",
      "\u001b[1m171/171\u001b[0m \u001b[32m━━━━━━━━━━━━━━━━━━━━\u001b[0m\u001b[37m\u001b[0m \u001b[1m2s\u001b[0m 9ms/step - accuracy: 0.6458 - loss: 1.0989 - val_accuracy: 0.5106 - val_loss: 26.9952\n",
      "Epoch 12/20\n",
      "\u001b[1m171/171\u001b[0m \u001b[32m━━━━━━━━━━━━━━━━━━━━\u001b[0m\u001b[37m\u001b[0m \u001b[1m2s\u001b[0m 9ms/step - accuracy: 0.6545 - loss: 1.0467 - val_accuracy: 0.5106 - val_loss: 26.9520\n",
      "Epoch 13/20\n",
      "\u001b[1m171/171\u001b[0m \u001b[32m━━━━━━━━━━━━━━━━━━━━\u001b[0m\u001b[37m\u001b[0m \u001b[1m2s\u001b[0m 11ms/step - accuracy: 0.6474 - loss: 1.0220 - val_accuracy: 0.5092 - val_loss: 26.9095\n",
      "Epoch 14/20\n",
      "\u001b[1m171/171\u001b[0m \u001b[32m━━━━━━━━━━━━━━━━━━━━\u001b[0m\u001b[37m\u001b[0m \u001b[1m2s\u001b[0m 10ms/step - accuracy: 0.6449 - loss: 1.0480 - val_accuracy: 0.5150 - val_loss: 26.5144\n",
      "Epoch 15/20\n",
      "\u001b[1m171/171\u001b[0m \u001b[32m━━━━━━━━━━━━━━━━━━━━\u001b[0m\u001b[37m\u001b[0m \u001b[1m2s\u001b[0m 10ms/step - accuracy: 0.6409 - loss: 1.0620 - val_accuracy: 0.5216 - val_loss: 26.6169\n",
      "Epoch 16/20\n",
      "\u001b[1m171/171\u001b[0m \u001b[32m━━━━━━━━━━━━━━━━━━━━\u001b[0m\u001b[37m\u001b[0m \u001b[1m2s\u001b[0m 10ms/step - accuracy: 0.6502 - loss: 1.0681 - val_accuracy: 0.5223 - val_loss: 26.5747\n",
      "Epoch 17/20\n",
      "\u001b[1m171/171\u001b[0m \u001b[32m━━━━━━━━━━━━━━━━━━━━\u001b[0m\u001b[37m\u001b[0m \u001b[1m2s\u001b[0m 9ms/step - accuracy: 0.6438 - loss: 1.0741 - val_accuracy: 0.5289 - val_loss: 26.5354\n",
      "Epoch 18/20\n",
      "\u001b[1m171/171\u001b[0m \u001b[32m━━━━━━━━━━━━━━━━━━━━\u001b[0m\u001b[37m\u001b[0m \u001b[1m2s\u001b[0m 9ms/step - accuracy: 0.6650 - loss: 1.0899 - val_accuracy: 0.5297 - val_loss: 26.5696\n",
      "Epoch 19/20\n",
      "\u001b[1m171/171\u001b[0m \u001b[32m━━━━━━━━━━━━━━━━━━━━\u001b[0m\u001b[37m\u001b[0m \u001b[1m2s\u001b[0m 9ms/step - accuracy: 0.6553 - loss: 1.0353 - val_accuracy: 0.5194 - val_loss: 26.0440\n",
      "Epoch 20/20\n",
      "\u001b[1m171/171\u001b[0m \u001b[32m━━━━━━━━━━━━━━━━━━━━\u001b[0m\u001b[37m\u001b[0m \u001b[1m2s\u001b[0m 9ms/step - accuracy: 0.6428 - loss: 1.6735 - val_accuracy: 0.5326 - val_loss: 18.0969\n"
     ]
    }
   ],
   "source": [
    "# Calculer le poids de classe pour gérer le déséquilibre\n",
    "class_weights = class_weight.compute_class_weight('balanced', classes=np.unique(y_train_padded), y=y_train_padded)\n",
    "class_weights = dict(enumerate(class_weights))\n",
    "\n",
    "# Entraîner le modèle\n",
    "history = model_padded.fit(X_train_padded, y_train_padded, epochs=20, batch_size=32, validation_split=0.2, class_weight=class_weights)\n"
   ]
  },
  {
   "cell_type": "code",
   "execution_count": 82,
   "metadata": {},
   "outputs": [
    {
     "name": "stdout",
     "output_type": "stream",
     "text": [
      "\u001b[1m54/54\u001b[0m \u001b[32m━━━━━━━━━━━━━━━━━━━━\u001b[0m\u001b[37m\u001b[0m \u001b[1m0s\u001b[0m 2ms/step - accuracy: 0.5339 - loss: 23.3233\n",
      "Précision sur l'ensemble de test : 0.5281\n",
      "\u001b[1m54/54\u001b[0m \u001b[32m━━━━━━━━━━━━━━━━━━━━\u001b[0m\u001b[37m\u001b[0m \u001b[1m0s\u001b[0m 2ms/step\n",
      "              precision    recall  f1-score   support\n",
      "\n",
      "           N       0.60      0.84      0.70      1015\n",
      "           A       0.11      0.04      0.06       152\n",
      "           O       0.26      0.06      0.10       483\n",
      "           ~       0.08      0.16      0.10        56\n",
      "\n",
      "    accuracy                           0.53      1706\n",
      "   macro avg       0.26      0.28      0.24      1706\n",
      "weighted avg       0.45      0.53      0.45      1706\n",
      "\n"
     ]
    }
   ],
   "source": [
    "# Évaluation du modèle sur l'ensemble de test\n",
    "test_loss, test_accuracy = model_padded.evaluate(X_test_padded, y_test_padded)\n",
    "print(f'Précision sur l\\'ensemble de test : {test_accuracy:.4f}')\n",
    "\n",
    "# Faire des prédictions sur l'ensemble de test\n",
    "predictions = model_padded.predict(X_test_padded)\n",
    "predicted_classes = np.argmax(predictions, axis=1)\n",
    "\n",
    "# Générer le rapport de classification\n",
    "report = classification_report(y_test_padded, predicted_classes, target_names=['N', 'A', 'O', '~'])\n",
    "print(report)"
   ]
  },
  {
   "cell_type": "code",
   "execution_count": 83,
   "metadata": {},
   "outputs": [
    {
     "name": "stderr",
     "output_type": "stream",
     "text": [
      "c:\\Users\\Albus\\anaconda3\\Lib\\site-packages\\keras\\src\\layers\\core\\dense.py:87: UserWarning: Do not pass an `input_shape`/`input_dim` argument to a layer. When using Sequential models, prefer using an `Input(shape)` object as the first layer in the model instead.\n",
      "  super().__init__(activity_regularizer=activity_regularizer, **kwargs)\n"
     ]
    },
    {
     "data": {
      "text/html": [
       "<pre style=\"white-space:pre;overflow-x:auto;line-height:normal;font-family:Menlo,'DejaVu Sans Mono',consolas,'Courier New',monospace\"><span style=\"font-weight: bold\">Model: \"sequential_6\"</span>\n",
       "</pre>\n"
      ],
      "text/plain": [
       "\u001b[1mModel: \"sequential_6\"\u001b[0m\n"
      ]
     },
     "metadata": {},
     "output_type": "display_data"
    },
    {
     "data": {
      "text/html": [
       "<pre style=\"white-space:pre;overflow-x:auto;line-height:normal;font-family:Menlo,'DejaVu Sans Mono',consolas,'Courier New',monospace\">┏━━━━━━━━━━━━━━━━━━━━━━━━━━━━━━━━━┳━━━━━━━━━━━━━━━━━━━━━━━━┳━━━━━━━━━━━━━━━┓\n",
       "┃<span style=\"font-weight: bold\"> Layer (type)                    </span>┃<span style=\"font-weight: bold\"> Output Shape           </span>┃<span style=\"font-weight: bold\">       Param # </span>┃\n",
       "┡━━━━━━━━━━━━━━━━━━━━━━━━━━━━━━━━━╇━━━━━━━━━━━━━━━━━━━━━━━━╇━━━━━━━━━━━━━━━┩\n",
       "│ dense_18 (<span style=\"color: #0087ff; text-decoration-color: #0087ff\">Dense</span>)                │ (<span style=\"color: #00d7ff; text-decoration-color: #00d7ff\">None</span>, <span style=\"color: #00af00; text-decoration-color: #00af00\">128</span>)            │     <span style=\"color: #00af00; text-decoration-color: #00af00\">1,152,128</span> │\n",
       "├─────────────────────────────────┼────────────────────────┼───────────────┤\n",
       "│ dense_19 (<span style=\"color: #0087ff; text-decoration-color: #0087ff\">Dense</span>)                │ (<span style=\"color: #00d7ff; text-decoration-color: #00d7ff\">None</span>, <span style=\"color: #00af00; text-decoration-color: #00af00\">32</span>)             │         <span style=\"color: #00af00; text-decoration-color: #00af00\">4,128</span> │\n",
       "├─────────────────────────────────┼────────────────────────┼───────────────┤\n",
       "│ dense_20 (<span style=\"color: #0087ff; text-decoration-color: #0087ff\">Dense</span>)                │ (<span style=\"color: #00d7ff; text-decoration-color: #00d7ff\">None</span>, <span style=\"color: #00af00; text-decoration-color: #00af00\">4</span>)              │           <span style=\"color: #00af00; text-decoration-color: #00af00\">132</span> │\n",
       "└─────────────────────────────────┴────────────────────────┴───────────────┘\n",
       "</pre>\n"
      ],
      "text/plain": [
       "┏━━━━━━━━━━━━━━━━━━━━━━━━━━━━━━━━━┳━━━━━━━━━━━━━━━━━━━━━━━━┳━━━━━━━━━━━━━━━┓\n",
       "┃\u001b[1m \u001b[0m\u001b[1mLayer (type)                   \u001b[0m\u001b[1m \u001b[0m┃\u001b[1m \u001b[0m\u001b[1mOutput Shape          \u001b[0m\u001b[1m \u001b[0m┃\u001b[1m \u001b[0m\u001b[1m      Param #\u001b[0m\u001b[1m \u001b[0m┃\n",
       "┡━━━━━━━━━━━━━━━━━━━━━━━━━━━━━━━━━╇━━━━━━━━━━━━━━━━━━━━━━━━╇━━━━━━━━━━━━━━━┩\n",
       "│ dense_18 (\u001b[38;5;33mDense\u001b[0m)                │ (\u001b[38;5;45mNone\u001b[0m, \u001b[38;5;34m128\u001b[0m)            │     \u001b[38;5;34m1,152,128\u001b[0m │\n",
       "├─────────────────────────────────┼────────────────────────┼───────────────┤\n",
       "│ dense_19 (\u001b[38;5;33mDense\u001b[0m)                │ (\u001b[38;5;45mNone\u001b[0m, \u001b[38;5;34m32\u001b[0m)             │         \u001b[38;5;34m4,128\u001b[0m │\n",
       "├─────────────────────────────────┼────────────────────────┼───────────────┤\n",
       "│ dense_20 (\u001b[38;5;33mDense\u001b[0m)                │ (\u001b[38;5;45mNone\u001b[0m, \u001b[38;5;34m4\u001b[0m)              │           \u001b[38;5;34m132\u001b[0m │\n",
       "└─────────────────────────────────┴────────────────────────┴───────────────┘\n"
      ]
     },
     "metadata": {},
     "output_type": "display_data"
    },
    {
     "data": {
      "text/html": [
       "<pre style=\"white-space:pre;overflow-x:auto;line-height:normal;font-family:Menlo,'DejaVu Sans Mono',consolas,'Courier New',monospace\"><span style=\"font-weight: bold\"> Total params: </span><span style=\"color: #00af00; text-decoration-color: #00af00\">1,156,388</span> (4.41 MB)\n",
       "</pre>\n"
      ],
      "text/plain": [
       "\u001b[1m Total params: \u001b[0m\u001b[38;5;34m1,156,388\u001b[0m (4.41 MB)\n"
      ]
     },
     "metadata": {},
     "output_type": "display_data"
    },
    {
     "data": {
      "text/html": [
       "<pre style=\"white-space:pre;overflow-x:auto;line-height:normal;font-family:Menlo,'DejaVu Sans Mono',consolas,'Courier New',monospace\"><span style=\"font-weight: bold\"> Trainable params: </span><span style=\"color: #00af00; text-decoration-color: #00af00\">1,156,388</span> (4.41 MB)\n",
       "</pre>\n"
      ],
      "text/plain": [
       "\u001b[1m Trainable params: \u001b[0m\u001b[38;5;34m1,156,388\u001b[0m (4.41 MB)\n"
      ]
     },
     "metadata": {},
     "output_type": "display_data"
    },
    {
     "data": {
      "text/html": [
       "<pre style=\"white-space:pre;overflow-x:auto;line-height:normal;font-family:Menlo,'DejaVu Sans Mono',consolas,'Courier New',monospace\"><span style=\"font-weight: bold\"> Non-trainable params: </span><span style=\"color: #00af00; text-decoration-color: #00af00\">0</span> (0.00 B)\n",
       "</pre>\n"
      ],
      "text/plain": [
       "\u001b[1m Non-trainable params: \u001b[0m\u001b[38;5;34m0\u001b[0m (0.00 B)\n"
      ]
     },
     "metadata": {},
     "output_type": "display_data"
    }
   ],
   "source": [
    "# Créer le modèle MLP\n",
    "model_truncated = keras.Sequential([\n",
    "    layers.Dense(128, activation='relu', input_shape=(X_train_truncated.shape[1],)),  # Couche d'entrée\n",
    "    layers.Dense(32, activation='relu'),  # Couche cachée\n",
    "    layers.Dense(4, activation='softmax')  # Couche de sortie (4 classes)\n",
    "])\n",
    "\n",
    "\n",
    "model_truncated.compile(optimizer='adam',\n",
    "              loss='sparse_categorical_crossentropy',\n",
    "              metrics=['accuracy'])\n",
    "\n",
    "# Résumé du modèle\n",
    "model_truncated.summary()"
   ]
  },
  {
   "cell_type": "code",
   "execution_count": 84,
   "metadata": {},
   "outputs": [
    {
     "name": "stdout",
     "output_type": "stream",
     "text": [
      "Epoch 1/20\n",
      "\u001b[1m171/171\u001b[0m \u001b[32m━━━━━━━━━━━━━━━━━━━━\u001b[0m\u001b[37m\u001b[0m \u001b[1m1s\u001b[0m 5ms/step - accuracy: 0.2838 - loss: 448.0167 - val_accuracy: 0.1817 - val_loss: 205.6044\n",
      "Epoch 2/20\n",
      "\u001b[1m171/171\u001b[0m \u001b[32m━━━━━━━━━━━━━━━━━━━━\u001b[0m\u001b[37m\u001b[0m \u001b[1m1s\u001b[0m 4ms/step - accuracy: 0.2666 - loss: 93.2023 - val_accuracy: 0.1971 - val_loss: 53.4403\n",
      "Epoch 3/20\n",
      "\u001b[1m171/171\u001b[0m \u001b[32m━━━━━━━━━━━━━━━━━━━━\u001b[0m\u001b[37m\u001b[0m \u001b[1m1s\u001b[0m 4ms/step - accuracy: 0.3151 - loss: 15.3863 - val_accuracy: 0.2762 - val_loss: 21.8410\n",
      "Epoch 4/20\n",
      "\u001b[1m171/171\u001b[0m \u001b[32m━━━━━━━━━━━━━━━━━━━━\u001b[0m\u001b[37m\u001b[0m \u001b[1m1s\u001b[0m 4ms/step - accuracy: 0.3740 - loss: 3.3583 - val_accuracy: 0.2264 - val_loss: 16.2983\n",
      "Epoch 5/20\n",
      "\u001b[1m171/171\u001b[0m \u001b[32m━━━━━━━━━━━━━━━━━━━━\u001b[0m\u001b[37m\u001b[0m \u001b[1m1s\u001b[0m 4ms/step - accuracy: 0.3351 - loss: 3.5277 - val_accuracy: 0.3033 - val_loss: 11.5519\n",
      "Epoch 6/20\n",
      "\u001b[1m171/171\u001b[0m \u001b[32m━━━━━━━━━━━━━━━━━━━━\u001b[0m\u001b[37m\u001b[0m \u001b[1m1s\u001b[0m 4ms/step - accuracy: 0.3646 - loss: 2.0782 - val_accuracy: 0.2711 - val_loss: 10.9956\n",
      "Epoch 7/20\n",
      "\u001b[1m171/171\u001b[0m \u001b[32m━━━━━━━━━━━━━━━━━━━━\u001b[0m\u001b[37m\u001b[0m \u001b[1m1s\u001b[0m 4ms/step - accuracy: 0.3588 - loss: 1.4664 - val_accuracy: 0.2520 - val_loss: 11.6455\n",
      "Epoch 8/20\n",
      "\u001b[1m171/171\u001b[0m \u001b[32m━━━━━━━━━━━━━━━━━━━━\u001b[0m\u001b[37m\u001b[0m \u001b[1m1s\u001b[0m 4ms/step - accuracy: 0.5228 - loss: 1.4309 - val_accuracy: 0.4879 - val_loss: 10.8583\n",
      "Epoch 9/20\n",
      "\u001b[1m171/171\u001b[0m \u001b[32m━━━━━━━━━━━━━━━━━━━━\u001b[0m\u001b[37m\u001b[0m \u001b[1m1s\u001b[0m 4ms/step - accuracy: 0.5898 - loss: 1.6130 - val_accuracy: 0.5216 - val_loss: 9.1078\n",
      "Epoch 10/20\n",
      "\u001b[1m171/171\u001b[0m \u001b[32m━━━━━━━━━━━━━━━━━━━━\u001b[0m\u001b[37m\u001b[0m \u001b[1m1s\u001b[0m 4ms/step - accuracy: 0.6155 - loss: 1.2101 - val_accuracy: 0.4908 - val_loss: 9.0301\n",
      "Epoch 11/20\n",
      "\u001b[1m171/171\u001b[0m \u001b[32m━━━━━━━━━━━━━━━━━━━━\u001b[0m\u001b[37m\u001b[0m \u001b[1m1s\u001b[0m 4ms/step - accuracy: 0.6050 - loss: 1.1887 - val_accuracy: 0.5473 - val_loss: 8.8818\n",
      "Epoch 12/20\n",
      "\u001b[1m171/171\u001b[0m \u001b[32m━━━━━━━━━━━━━━━━━━━━\u001b[0m\u001b[37m\u001b[0m \u001b[1m1s\u001b[0m 4ms/step - accuracy: 0.6200 - loss: 1.1187 - val_accuracy: 0.5560 - val_loss: 8.8757\n",
      "Epoch 13/20\n",
      "\u001b[1m171/171\u001b[0m \u001b[32m━━━━━━━━━━━━━━━━━━━━\u001b[0m\u001b[37m\u001b[0m \u001b[1m1s\u001b[0m 4ms/step - accuracy: 0.6182 - loss: 1.0754 - val_accuracy: 0.5297 - val_loss: 8.9808\n",
      "Epoch 14/20\n",
      "\u001b[1m171/171\u001b[0m \u001b[32m━━━━━━━━━━━━━━━━━━━━\u001b[0m\u001b[37m\u001b[0m \u001b[1m1s\u001b[0m 4ms/step - accuracy: 0.6054 - loss: 1.3481 - val_accuracy: 0.5363 - val_loss: 8.7859\n",
      "Epoch 15/20\n",
      "\u001b[1m171/171\u001b[0m \u001b[32m━━━━━━━━━━━━━━━━━━━━\u001b[0m\u001b[37m\u001b[0m \u001b[1m1s\u001b[0m 4ms/step - accuracy: 0.6205 - loss: 1.0833 - val_accuracy: 0.5392 - val_loss: 8.7582\n",
      "Epoch 16/20\n",
      "\u001b[1m171/171\u001b[0m \u001b[32m━━━━━━━━━━━━━━━━━━━━\u001b[0m\u001b[37m\u001b[0m \u001b[1m1s\u001b[0m 4ms/step - accuracy: 0.6296 - loss: 1.1354 - val_accuracy: 0.5399 - val_loss: 8.9913\n",
      "Epoch 17/20\n",
      "\u001b[1m171/171\u001b[0m \u001b[32m━━━━━━━━━━━━━━━━━━━━\u001b[0m\u001b[37m\u001b[0m \u001b[1m1s\u001b[0m 4ms/step - accuracy: 0.6215 - loss: 1.0766 - val_accuracy: 0.5619 - val_loss: 8.6105\n",
      "Epoch 18/20\n",
      "\u001b[1m171/171\u001b[0m \u001b[32m━━━━━━━━━━━━━━━━━━━━\u001b[0m\u001b[37m\u001b[0m \u001b[1m1s\u001b[0m 4ms/step - accuracy: 0.6371 - loss: 1.0727 - val_accuracy: 0.5333 - val_loss: 9.1178\n",
      "Epoch 19/20\n",
      "\u001b[1m171/171\u001b[0m \u001b[32m━━━━━━━━━━━━━━━━━━━━\u001b[0m\u001b[37m\u001b[0m \u001b[1m1s\u001b[0m 4ms/step - accuracy: 0.6164 - loss: 1.7645 - val_accuracy: 0.5297 - val_loss: 8.0077\n",
      "Epoch 20/20\n",
      "\u001b[1m171/171\u001b[0m \u001b[32m━━━━━━━━━━━━━━━━━━━━\u001b[0m\u001b[37m\u001b[0m \u001b[1m1s\u001b[0m 4ms/step - accuracy: 0.5953 - loss: 2.8053 - val_accuracy: 0.5421 - val_loss: 5.2616\n"
     ]
    }
   ],
   "source": [
    "# Calculer le poids de classe pour gérer le déséquilibre\n",
    "class_weights = class_weight.compute_class_weight('balanced', classes=np.unique(y_train_truncated), y=y_train_truncated)\n",
    "class_weights = dict(enumerate(class_weights))\n",
    "\n",
    "# Entraîner le modèle\n",
    "history_truncated = model_truncated.fit(X_train_truncated, y_train_truncated, epochs=20, batch_size=32, validation_split=0.2, class_weight=class_weights)"
   ]
  },
  {
   "cell_type": "code",
   "execution_count": 85,
   "metadata": {},
   "outputs": [
    {
     "name": "stdout",
     "output_type": "stream",
     "text": [
      "\u001b[1m54/54\u001b[0m \u001b[32m━━━━━━━━━━━━━━━━━━━━\u001b[0m\u001b[37m\u001b[0m \u001b[1m0s\u001b[0m 2ms/step - accuracy: 0.5435 - loss: 4.9660\n",
      "Précision sur l'ensemble de test : 0.5422\n",
      "\u001b[1m54/54\u001b[0m \u001b[32m━━━━━━━━━━━━━━━━━━━━\u001b[0m\u001b[37m\u001b[0m \u001b[1m0s\u001b[0m 2ms/step\n",
      "              precision    recall  f1-score   support\n",
      "\n",
      "           N       0.60      0.90      0.72      1015\n",
      "           A       0.08      0.01      0.02       152\n",
      "           O       0.24      0.01      0.02       483\n",
      "           ~       0.04      0.09      0.05        56\n",
      "\n",
      "    accuracy                           0.54      1706\n",
      "   macro avg       0.24      0.25      0.20      1706\n",
      "weighted avg       0.43      0.54      0.44      1706\n",
      "\n"
     ]
    }
   ],
   "source": [
    "# Évaluation du modèle sur l'ensemble de test\n",
    "test_loss, test_accuracy = model_truncated.evaluate(X_test_truncated, y_test_truncated)\n",
    "print(f'Précision sur l\\'ensemble de test : {test_accuracy:.4f}')\n",
    "\n",
    "# Faire des prédictions sur l'ensemble de test\n",
    "predictions = model_truncated.predict(X_test_truncated)\n",
    "predicted_classes = np.argmax(predictions, axis=1)\n",
    "\n",
    "# Générer le rapport de classification\n",
    "report = classification_report(y_test_truncated, predicted_classes, target_names=['N', 'A', 'O', '~'])\n",
    "print(report)"
   ]
  },
  {
   "cell_type": "code",
   "execution_count": 86,
   "metadata": {},
   "outputs": [
    {
     "name": "stdout",
     "output_type": "stream",
     "text": [
      "Epoch 1/20\n",
      "\u001b[1m171/171\u001b[0m \u001b[32m━━━━━━━━━━━━━━━━━━━━\u001b[0m\u001b[37m\u001b[0m \u001b[1m1s\u001b[0m 5ms/step - accuracy: 0.3800 - loss: 15.4614 - val_accuracy: 0.2821 - val_loss: 3.5462\n",
      "Epoch 2/20\n",
      "\u001b[1m171/171\u001b[0m \u001b[32m━━━━━━━━━━━━━━━━━━━━\u001b[0m\u001b[37m\u001b[0m \u001b[1m1s\u001b[0m 4ms/step - accuracy: 0.2851 - loss: 6.4191 - val_accuracy: 0.2894 - val_loss: 2.0263\n",
      "Epoch 3/20\n",
      "\u001b[1m171/171\u001b[0m \u001b[32m━━━━━━━━━━━━━━━━━━━━\u001b[0m\u001b[37m\u001b[0m \u001b[1m1s\u001b[0m 4ms/step - accuracy: 0.2966 - loss: 1.3796 - val_accuracy: 0.2879 - val_loss: 2.0317\n",
      "Epoch 4/20\n",
      "\u001b[1m171/171\u001b[0m \u001b[32m━━━━━━━━━━━━━━━━━━━━\u001b[0m\u001b[37m\u001b[0m \u001b[1m1s\u001b[0m 4ms/step - accuracy: 0.2635 - loss: 1.3591 - val_accuracy: 0.0850 - val_loss: 2.0431\n",
      "Epoch 5/20\n",
      "\u001b[1m171/171\u001b[0m \u001b[32m━━━━━━━━━━━━━━━━━━━━\u001b[0m\u001b[37m\u001b[0m \u001b[1m1s\u001b[0m 4ms/step - accuracy: 0.3488 - loss: 1.3387 - val_accuracy: 0.0850 - val_loss: 2.0517\n",
      "Epoch 6/20\n",
      "\u001b[1m171/171\u001b[0m \u001b[32m━━━━━━━━━━━━━━━━━━━━\u001b[0m\u001b[37m\u001b[0m \u001b[1m1s\u001b[0m 4ms/step - accuracy: 0.4720 - loss: 1.3880 - val_accuracy: 0.5905 - val_loss: 2.0580\n",
      "Epoch 7/20\n",
      "\u001b[1m171/171\u001b[0m \u001b[32m━━━━━━━━━━━━━━━━━━━━\u001b[0m\u001b[37m\u001b[0m \u001b[1m1s\u001b[0m 4ms/step - accuracy: 0.3704 - loss: 1.3936 - val_accuracy: 0.5905 - val_loss: 2.0625\n",
      "Epoch 8/20\n",
      "\u001b[1m171/171\u001b[0m \u001b[32m━━━━━━━━━━━━━━━━━━━━\u001b[0m\u001b[37m\u001b[0m \u001b[1m1s\u001b[0m 4ms/step - accuracy: 0.6002 - loss: 1.3574 - val_accuracy: 0.5905 - val_loss: 2.0658\n",
      "Epoch 9/20\n",
      "\u001b[1m171/171\u001b[0m \u001b[32m━━━━━━━━━━━━━━━━━━━━\u001b[0m\u001b[37m\u001b[0m \u001b[1m1s\u001b[0m 4ms/step - accuracy: 0.5156 - loss: 1.3372 - val_accuracy: 0.5905 - val_loss: 2.0602\n",
      "Epoch 10/20\n",
      "\u001b[1m171/171\u001b[0m \u001b[32m━━━━━━━━━━━━━━━━━━━━\u001b[0m\u001b[37m\u001b[0m \u001b[1m1s\u001b[0m 4ms/step - accuracy: 0.5971 - loss: 1.3349 - val_accuracy: 0.5905 - val_loss: 2.0657\n",
      "Epoch 11/20\n",
      "\u001b[1m171/171\u001b[0m \u001b[32m━━━━━━━━━━━━━━━━━━━━\u001b[0m\u001b[37m\u001b[0m \u001b[1m1s\u001b[0m 4ms/step - accuracy: 0.5248 - loss: 1.4002 - val_accuracy: 0.5905 - val_loss: 2.0659\n",
      "Epoch 12/20\n",
      "\u001b[1m171/171\u001b[0m \u001b[32m━━━━━━━━━━━━━━━━━━━━\u001b[0m\u001b[37m\u001b[0m \u001b[1m1s\u001b[0m 4ms/step - accuracy: 0.5960 - loss: 1.3321 - val_accuracy: 0.5905 - val_loss: 2.0699\n",
      "Epoch 13/20\n",
      "\u001b[1m171/171\u001b[0m \u001b[32m━━━━━━━━━━━━━━━━━━━━\u001b[0m\u001b[37m\u001b[0m \u001b[1m1s\u001b[0m 4ms/step - accuracy: 0.6069 - loss: 1.3508 - val_accuracy: 0.5905 - val_loss: 2.0704\n",
      "Epoch 14/20\n",
      "\u001b[1m171/171\u001b[0m \u001b[32m━━━━━━━━━━━━━━━━━━━━\u001b[0m\u001b[37m\u001b[0m \u001b[1m1s\u001b[0m 4ms/step - accuracy: 0.5418 - loss: 1.3314 - val_accuracy: 0.5883 - val_loss: 2.0750\n",
      "Epoch 15/20\n",
      "\u001b[1m171/171\u001b[0m \u001b[32m━━━━━━━━━━━━━━━━━━━━\u001b[0m\u001b[37m\u001b[0m \u001b[1m1s\u001b[0m 4ms/step - accuracy: 0.5980 - loss: 1.3245 - val_accuracy: 0.5905 - val_loss: 2.0662\n",
      "Epoch 16/20\n",
      "\u001b[1m171/171\u001b[0m \u001b[32m━━━━━━━━━━━━━━━━━━━━\u001b[0m\u001b[37m\u001b[0m \u001b[1m1s\u001b[0m 4ms/step - accuracy: 0.5969 - loss: 1.3695 - val_accuracy: 0.5905 - val_loss: 2.0686\n",
      "Epoch 17/20\n",
      "\u001b[1m171/171\u001b[0m \u001b[32m━━━━━━━━━━━━━━━━━━━━\u001b[0m\u001b[37m\u001b[0m \u001b[1m1s\u001b[0m 4ms/step - accuracy: 0.6035 - loss: 1.3688 - val_accuracy: 0.5905 - val_loss: 2.0660\n",
      "Epoch 18/20\n",
      "\u001b[1m171/171\u001b[0m \u001b[32m━━━━━━━━━━━━━━━━━━━━\u001b[0m\u001b[37m\u001b[0m \u001b[1m1s\u001b[0m 4ms/step - accuracy: 0.5646 - loss: 1.3427 - val_accuracy: 0.5905 - val_loss: 2.0657\n",
      "Epoch 19/20\n",
      "\u001b[1m171/171\u001b[0m \u001b[32m━━━━━━━━━━━━━━━━━━━━\u001b[0m\u001b[37m\u001b[0m \u001b[1m1s\u001b[0m 4ms/step - accuracy: 0.6207 - loss: 1.2921 - val_accuracy: 0.5897 - val_loss: 2.0687\n",
      "Epoch 20/20\n",
      "\u001b[1m171/171\u001b[0m \u001b[32m━━━━━━━━━━━━━━━━━━━━\u001b[0m\u001b[37m\u001b[0m \u001b[1m1s\u001b[0m 4ms/step - accuracy: 0.6073 - loss: 1.3035 - val_accuracy: 0.5897 - val_loss: 2.0669\n"
     ]
    }
   ],
   "source": [
    "# Calculer le poids de classe pour gérer le déséquilibre\n",
    "class_weights = class_weight.compute_class_weight('balanced', classes=np.unique(y_train_interpolated), y=y_train_interpolated)\n",
    "class_weights = dict(enumerate(class_weights))\n",
    "\n",
    "# Entraîner le modèle\n",
    "history_interpolated = model_truncated.fit(X_train_interpolated, y_train_interpolated, epochs=20, batch_size=32, validation_split=0.2, class_weight=class_weights)"
   ]
  },
  {
   "cell_type": "code",
   "execution_count": 87,
   "metadata": {},
   "outputs": [
    {
     "name": "stdout",
     "output_type": "stream",
     "text": [
      "\u001b[1m54/54\u001b[0m \u001b[32m━━━━━━━━━━━━━━━━━━━━\u001b[0m\u001b[37m\u001b[0m \u001b[1m0s\u001b[0m 1ms/step - accuracy: 0.5824 - loss: 2.0256\n",
      "Précision sur l'ensemble de test : 0.5856\n",
      "\u001b[1m54/54\u001b[0m \u001b[32m━━━━━━━━━━━━━━━━━━━━\u001b[0m\u001b[37m\u001b[0m \u001b[1m0s\u001b[0m 2ms/step\n",
      "              precision    recall  f1-score   support\n",
      "\n",
      "           N       0.60      0.98      0.74      1015\n",
      "           A       0.00      0.00      0.00       152\n",
      "           O       0.12      0.00      0.01       483\n",
      "           ~       0.00      0.00      0.00        56\n",
      "\n",
      "    accuracy                           0.59      1706\n",
      "   macro avg       0.18      0.25      0.19      1706\n",
      "weighted avg       0.39      0.59      0.44      1706\n",
      "\n"
     ]
    }
   ],
   "source": [
    "# Évaluation du modèle sur l'ensemble de test\n",
    "test_loss, test_accuracy = model_truncated.evaluate(X_test_interpolated, y_test_interpolated)\n",
    "print(f'Précision sur l\\'ensemble de test : {test_accuracy:.4f}')\n",
    "\n",
    "# Faire des prédictions sur l'ensemble de test\n",
    "predictions = model_truncated.predict(X_test_interpolated)\n",
    "predicted_classes = np.argmax(predictions, axis=1)\n",
    "\n",
    "# Générer le rapport de classification\n",
    "report = classification_report(y_test_interpolated, predicted_classes, target_names=['N', 'A', 'O', '~'])\n",
    "print(report)"
   ]
  }
 ],
 "metadata": {
  "kernelspec": {
   "display_name": "base",
   "language": "python",
   "name": "python3"
  },
  "language_info": {
   "codemirror_mode": {
    "name": "ipython",
    "version": 3
   },
   "file_extension": ".py",
   "mimetype": "text/x-python",
   "name": "python",
   "nbconvert_exporter": "python",
   "pygments_lexer": "ipython3",
   "version": "3.11.5"
  }
 },
 "nbformat": 4,
 "nbformat_minor": 2
}
