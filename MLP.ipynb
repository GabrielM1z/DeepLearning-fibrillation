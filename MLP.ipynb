{
 "cells": [
  {
   "cell_type": "code",
   "execution_count": 10,
   "metadata": {},
   "outputs": [],
   "source": [
    "import pandas as pd\n",
    "import numpy as np\n",
    "import scipy.io\n",
    "import os\n",
    "import matplotlib.pyplot as plt\n",
    "from sklearn.model_selection import train_test_split\n",
    "from sklearn.preprocessing import StandardScaler\n",
    "from sklearn.utils import class_weight\n",
    "from tensorflow import keras\n",
    "from tensorflow.keras import layers\n",
    "from datasetResize import *"
   ]
  },
  {
   "cell_type": "code",
   "execution_count": 11,
   "metadata": {},
   "outputs": [
    {
     "name": "stdout",
     "output_type": "stream",
     "text": [
      "  filename label\n",
      "0   A00001     N\n",
      "1   A00002     N\n",
      "2   A00003     N\n",
      "3   A00004     A\n",
      "4   A00005     A\n"
     ]
    }
   ],
   "source": [
    "# lecture du excel\n",
    "labels_df = pd.read_csv('REFERENCE-V3.csv', header=None)\n",
    "labels_df.columns = ['filename', 'label']\n",
    "\n",
    "print(labels_df.head())"
   ]
  },
  {
   "cell_type": "code",
   "execution_count": 12,
   "metadata": {},
   "outputs": [
    {
     "ename": "AttributeError",
     "evalue": "'numpy.ndarray' object has no attribute 'resample'",
     "output_type": "error",
     "traceback": [
      "\u001b[1;31m---------------------------------------------------------------------------\u001b[0m",
      "\u001b[1;31mAttributeError\u001b[0m                            Traceback (most recent call last)",
      "Cell \u001b[1;32mIn[12], line 28\u001b[0m\n\u001b[0;32m     25\u001b[0m signals_truncated\u001b[38;5;241m.\u001b[39mappend(signal_truncated)\n\u001b[0;32m     27\u001b[0m \u001b[38;5;66;03m# Appliquer l'interpolation\u001b[39;00m\n\u001b[1;32m---> 28\u001b[0m signal_interpolated \u001b[38;5;241m=\u001b[39m \u001b[43mecg_resizer\u001b[49m\u001b[38;5;241;43m.\u001b[39;49m\u001b[43mresize_signal\u001b[49m\u001b[43m(\u001b[49m\u001b[43msignal\u001b[49m\u001b[43m,\u001b[49m\u001b[43m \u001b[49m\u001b[43mmethod\u001b[49m\u001b[38;5;241;43m=\u001b[39;49m\u001b[38;5;124;43m'\u001b[39;49m\u001b[38;5;124;43minterpolate\u001b[39;49m\u001b[38;5;124;43m'\u001b[39;49m\u001b[43m)\u001b[49m\n\u001b[0;32m     29\u001b[0m signals_interpolated\u001b[38;5;241m.\u001b[39mappend(signal_interpolated)\n",
      "File \u001b[1;32mc:\\Users\\Albus\\Documents\\EMA\\ia\\projet\\DeepLearning-fibrillation\\datasetResize.py:40\u001b[0m, in \u001b[0;36mECGResizing.resize_signal\u001b[1;34m(self, signal, method)\u001b[0m\n\u001b[0;32m     38\u001b[0m     \u001b[38;5;28;01mreturn\u001b[39;00m \u001b[38;5;28mself\u001b[39m\u001b[38;5;241m.\u001b[39mtruncate_signal(signal)\n\u001b[0;32m     39\u001b[0m \u001b[38;5;28;01melif\u001b[39;00m method \u001b[38;5;241m==\u001b[39m \u001b[38;5;124m'\u001b[39m\u001b[38;5;124minterpolate\u001b[39m\u001b[38;5;124m'\u001b[39m:\n\u001b[1;32m---> 40\u001b[0m     \u001b[38;5;28;01mreturn\u001b[39;00m \u001b[38;5;28;43mself\u001b[39;49m\u001b[38;5;241;43m.\u001b[39;49m\u001b[43minterpolate_signal\u001b[49m\u001b[43m(\u001b[49m\u001b[43msignal\u001b[49m\u001b[43m)\u001b[49m\n\u001b[0;32m     41\u001b[0m \u001b[38;5;28;01melse\u001b[39;00m:\n\u001b[0;32m     42\u001b[0m     \u001b[38;5;28;01mraise\u001b[39;00m \u001b[38;5;167;01mValueError\u001b[39;00m(\u001b[38;5;124mf\u001b[39m\u001b[38;5;124m\"\u001b[39m\u001b[38;5;124mMethod \u001b[39m\u001b[38;5;132;01m{\u001b[39;00mmethod\u001b[38;5;132;01m}\u001b[39;00m\u001b[38;5;124m not recognized. Use \u001b[39m\u001b[38;5;124m'\u001b[39m\u001b[38;5;124mpadding\u001b[39m\u001b[38;5;124m'\u001b[39m\u001b[38;5;124m, \u001b[39m\u001b[38;5;124m'\u001b[39m\u001b[38;5;124mtruncate\u001b[39m\u001b[38;5;124m'\u001b[39m\u001b[38;5;124m, \u001b[39m\u001b[38;5;124m'\u001b[39m\u001b[38;5;124minterpolate\u001b[39m\u001b[38;5;124m'\u001b[39m\u001b[38;5;124m, or \u001b[39m\u001b[38;5;124m'\u001b[39m\u001b[38;5;124msegment\u001b[39m\u001b[38;5;124m'\u001b[39m\u001b[38;5;124m.\u001b[39m\u001b[38;5;124m\"\u001b[39m)\n",
      "File \u001b[1;32mc:\\Users\\Albus\\Documents\\EMA\\ia\\projet\\DeepLearning-fibrillation\\datasetResize.py:30\u001b[0m, in \u001b[0;36mECGResizing.interpolate_signal\u001b[1;34m(self, signal)\u001b[0m\n\u001b[0;32m     29\u001b[0m \u001b[38;5;28;01mdef\u001b[39;00m \u001b[38;5;21minterpolate_signal\u001b[39m(\u001b[38;5;28mself\u001b[39m, signal):\n\u001b[1;32m---> 30\u001b[0m     \u001b[38;5;28;01mreturn\u001b[39;00m \u001b[43msignal\u001b[49m\u001b[38;5;241;43m.\u001b[39;49m\u001b[43mresample\u001b[49m(signal, \u001b[38;5;28mself\u001b[39m\u001b[38;5;241m.\u001b[39mtarget_length)\n",
      "\u001b[1;31mAttributeError\u001b[0m: 'numpy.ndarray' object has no attribute 'resample'"
     ]
    }
   ],
   "source": [
    "# Charger tous les signaux et leurs labels\n",
    "labels = []\n",
    "signals = []\n",
    "signals_padded = []\n",
    "signals_truncated = []\n",
    "signals_interpolated = []\n",
    "\n",
    "# Initialiser avec les paramètres pour le redimensionnement\n",
    "ecg_resizer = ECGResizing(target_length=18286)\n",
    "\n",
    "for index, row in labels_df.iterrows():\n",
    "    \n",
    "    labels.append(row['label'])\n",
    "    filename = row['filename']\n",
    "    # Charger un signal ECG\n",
    "    signal = ecg_resizer.load_ecg(f'training2017/{filename}.mat')\n",
    "    signals.append(signal)\n",
    "\n",
    "    # Appliquer le zero padding\n",
    "    signal_padded = ecg_resizer.resize_signal(signal, method='padding')\n",
    "    signals_padded.append(signal_padded)\n",
    "\n",
    "    # Appliquer le tronquage\n",
    "    signal_truncated = ecg_resizer.resize_signal(signal, method='truncate')\n",
    "    signals_truncated.append(signal_truncated)\n",
    "\n",
    "    # Appliquer l'interpolation\n",
    "    signal_interpolated = ecg_resizer.resize_signal(signal, method='interpolate')\n",
    "    signals_interpolated.append(signal_interpolated)"
   ]
  }
 ],
 "metadata": {
  "kernelspec": {
   "display_name": "base",
   "language": "python",
   "name": "python3"
  },
  "language_info": {
   "codemirror_mode": {
    "name": "ipython",
    "version": 3
   },
   "file_extension": ".py",
   "mimetype": "text/x-python",
   "name": "python",
   "nbconvert_exporter": "python",
   "pygments_lexer": "ipython3",
   "version": "3.11.5"
  }
 },
 "nbformat": 4,
 "nbformat_minor": 2
}
