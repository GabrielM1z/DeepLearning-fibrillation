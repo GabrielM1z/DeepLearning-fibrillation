{
 "cells": [
  {
   "cell_type": "code",
   "execution_count": 1,
   "metadata": {},
   "outputs": [],
   "source": [
    "import torch\n",
    "import torch.nn as nn\n",
    "import torch.optim as optim\n",
    "import numpy as np\n",
    "import matplotlib.pyplot as plt\n"
   ]
  },
  {
   "cell_type": "code",
   "execution_count": 13,
   "metadata": {},
   "outputs": [
    {
     "name": "stdout",
     "output_type": "stream",
     "text": [
      "[-127 -162 -197 -229 -245 -254 -261 -265 -268 -268]\n"
     ]
    }
   ],
   "source": [
    "import pandas as pd\n",
    "import numpy as np\n",
    "import scipy.io\n",
    "\n",
    "# Charger les labels\n",
    "labels_df = pd.read_csv('REFERENCE-v3.csv', header=None)\n",
    "labels_df.columns = ['filename', 'label']\n",
    "\n",
    "# Fonction pour charger un fichier ECG au format .mat\n",
    "def load_ecg(filename):\n",
    "    # Charger le fichier .mat\n",
    "    mat = scipy.io.loadmat(f'training2017/{filename}.mat')\n",
    "    # Les signaux ECG sont généralement stockés sous la clé 'val' dans les fichiers .mat\n",
    "    signal = mat['val'][0]\n",
    "    return signal\n",
    "\n",
    "# Exemple de chargement d'un fichier ECG\n",
    "example_signal = load_ecg(labels_df['filename'].iloc[0])\n",
    "\n",
    "# Afficher les premières valeurs du signal ECG\n",
    "print(example_signal[:10])\n",
    "\n"
   ]
  },
  {
   "cell_type": "code",
   "execution_count": 14,
   "metadata": {},
   "outputs": [],
   "source": [
    "from scipy.signal import resample\n",
    "\n",
    "def preprocess_signal(signal, target_length=300):\n",
    "    # Resample pour avoir le même nombre de points\n",
    "    return resample(signal, target_length)\n",
    "\n",
    "# Prétraitement d'un exemple de signal\n",
    "preprocessed_signal = preprocess_signal(example_signal)\n"
   ]
  },
  {
   "cell_type": "code",
   "execution_count": 15,
   "metadata": {},
   "outputs": [],
   "source": [
    "from torch.utils.data import Dataset, DataLoader\n",
    "\n",
    "class ECGDataset(Dataset):\n",
    "    def __init__(self, labels_df):\n",
    "        self.labels_df = labels_df\n",
    "\n",
    "    def __len__(self):\n",
    "        return len(self.labels_df)\n",
    "\n",
    "    def __getitem__(self, idx):\n",
    "        filename = self.labels_df.iloc[idx, 0]\n",
    "        label = self.labels_df.iloc[idx, 1]\n",
    "        signal = preprocess_signal(load_ecg(filename))\n",
    "        return torch.tensor(signal, dtype=torch.float32), label\n",
    "\n",
    "# Créer le Dataset\n",
    "dataset = ECGDataset(labels_df)\n",
    "dataloader = DataLoader(dataset, batch_size=32, shuffle=True)\n"
   ]
  },
  {
   "cell_type": "code",
   "execution_count": 16,
   "metadata": {},
   "outputs": [],
   "source": [
    "class ECG_RNN(nn.Module):\n",
    "    def __init__(self, input_size, hidden_size, output_size, num_layers=1):\n",
    "        super(ECG_RNN, self).__init__()\n",
    "        self.hidden_size = hidden_size\n",
    "        self.num_layers = num_layers\n",
    "        # RNN layer\n",
    "        self.rnn = nn.RNN(input_size, hidden_size, num_layers, batch_first=True)\n",
    "        # Fully connected layer for classification\n",
    "        self.fc = nn.Linear(hidden_size, output_size)\n",
    "\n",
    "    def forward(self, x):\n",
    "        # Initialize hidden state with zeros\n",
    "        h0 = torch.zeros(self.num_layers, x.size(0), self.hidden_size).to(x.device)\n",
    "        # Forward propagate the RNN\n",
    "        out, _ = self.rnn(x, h0)\n",
    "        # We only need the output of the last time step\n",
    "        out = self.fc(out[:, -1, :])\n",
    "        return out\n",
    "\n",
    "# Paramètres du modèle\n",
    "input_size = 1  # 1D signal\n",
    "hidden_size = 64\n",
    "output_size = 4  # N, AF, Other, Noisy\n",
    "model = ECG_RNN(input_size, hidden_size, output_size)\n"
   ]
  },
  {
   "cell_type": "code",
   "execution_count": 17,
   "metadata": {},
   "outputs": [],
   "source": [
    "criterion = nn.CrossEntropyLoss()\n",
    "optimizer = optim.Adam(model.parameters(), lr=0.001)\n"
   ]
  },
  {
   "cell_type": "code",
   "execution_count": 18,
   "metadata": {},
   "outputs": [
    {
     "name": "stdout",
     "output_type": "stream",
     "text": [
      "Epoch [1/10], Loss: 1.0163\n",
      "Epoch [2/10], Loss: 1.0491\n",
      "Epoch [3/10], Loss: 0.7823\n",
      "Epoch [4/10], Loss: 1.1881\n",
      "Epoch [5/10], Loss: 0.7306\n",
      "Epoch [6/10], Loss: 0.5886\n",
      "Epoch [7/10], Loss: 0.9894\n",
      "Epoch [8/10], Loss: 1.0572\n",
      "Epoch [9/10], Loss: 1.2381\n",
      "Epoch [10/10], Loss: 0.8331\n"
     ]
    }
   ],
   "source": [
    "num_epochs = 10\n",
    "\n",
    "for epoch in range(num_epochs):\n",
    "    for signals, labels in dataloader:\n",
    "        signals = signals.unsqueeze(-1)  # Ajouter une dimension pour l'entrée RNN (batch_size, sequence_length, input_size)\n",
    "        labels = torch.tensor([{'N': 0, 'A': 1, 'O': 2, '~': 3}[l] for l in labels])\n",
    "        \n",
    "        # Clear gradients\n",
    "        optimizer.zero_grad()\n",
    "        \n",
    "        # Forward pass\n",
    "        outputs = model(signals)\n",
    "        loss = criterion(outputs, labels)\n",
    "        \n",
    "        # Backward pass and optimization\n",
    "        loss.backward()\n",
    "        optimizer.step()\n",
    "\n",
    "    print(f'Epoch [{epoch+1}/{num_epochs}], Loss: {loss.item():.4f}')\n"
   ]
  },
  {
   "cell_type": "code",
   "execution_count": 20,
   "metadata": {},
   "outputs": [
    {
     "name": "stdout",
     "output_type": "stream",
     "text": [
      "              precision    recall  f1-score   support\n",
      "\n",
      "           N       0.60      1.00      0.75      5076\n",
      "           A       0.00      0.00      0.00       758\n",
      "           O       0.00      0.00      0.00      2415\n",
      "           ~       0.27      0.04      0.07       279\n",
      "\n",
      "    accuracy                           0.59      8528\n",
      "   macro avg       0.22      0.26      0.20      8528\n",
      "weighted avg       0.36      0.59      0.45      8528\n",
      "\n"
     ]
    },
    {
     "name": "stderr",
     "output_type": "stream",
     "text": [
      "c:\\Users\\Albus\\anaconda3\\Lib\\site-packages\\sklearn\\metrics\\_classification.py:1469: UndefinedMetricWarning: Precision and F-score are ill-defined and being set to 0.0 in labels with no predicted samples. Use `zero_division` parameter to control this behavior.\n",
      "  _warn_prf(average, modifier, msg_start, len(result))\n",
      "c:\\Users\\Albus\\anaconda3\\Lib\\site-packages\\sklearn\\metrics\\_classification.py:1469: UndefinedMetricWarning: Precision and F-score are ill-defined and being set to 0.0 in labels with no predicted samples. Use `zero_division` parameter to control this behavior.\n",
      "  _warn_prf(average, modifier, msg_start, len(result))\n",
      "c:\\Users\\Albus\\anaconda3\\Lib\\site-packages\\sklearn\\metrics\\_classification.py:1469: UndefinedMetricWarning: Precision and F-score are ill-defined and being set to 0.0 in labels with no predicted samples. Use `zero_division` parameter to control this behavior.\n",
      "  _warn_prf(average, modifier, msg_start, len(result))\n"
     ]
    }
   ],
   "source": [
    "label_mapping = {'N': 0, 'A': 1, 'O': 2, '~': 3}\n",
    "\n",
    "# Modification dans la boucle d'évaluation\n",
    "model.eval()\n",
    "y_true = []\n",
    "y_pred = []\n",
    "\n",
    "with torch.no_grad():\n",
    "    for signals, labels in dataloader:\n",
    "        signals = signals.unsqueeze(-1)\n",
    "        outputs = model(signals)\n",
    "        _, predicted = torch.max(outputs.data, 1)\n",
    "        \n",
    "        # Convertir les labels (y_true) en nombres\n",
    "        labels = torch.tensor([label_mapping[l] for l in labels])\n",
    "\n",
    "        y_true.extend(labels)\n",
    "        y_pred.extend(predicted)\n",
    "\n",
    "# Générer le rapport de classification\n",
    "print(classification_report(y_true, y_pred, target_names=['N', 'A', 'O', '~']))\n"
   ]
  }
 ],
 "metadata": {
  "kernelspec": {
   "display_name": "base",
   "language": "python",
   "name": "python3"
  },
  "language_info": {
   "codemirror_mode": {
    "name": "ipython",
    "version": 3
   },
   "file_extension": ".py",
   "mimetype": "text/x-python",
   "name": "python",
   "nbconvert_exporter": "python",
   "pygments_lexer": "ipython3",
   "version": "3.11.5"
  }
 },
 "nbformat": 4,
 "nbformat_minor": 2
}
