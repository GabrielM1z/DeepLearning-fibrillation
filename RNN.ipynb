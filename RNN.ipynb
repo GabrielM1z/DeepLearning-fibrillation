{
 "cells": [
  {
   "cell_type": "code",
   "execution_count": 12,
   "metadata": {},
   "outputs": [],
   "source": [
    "import torch\n",
    "import torch.nn as nn\n",
    "import torch.optim as optim\n",
    "import numpy as np\n",
    "import matplotlib.pyplot as plt\n",
    "import pandas as pd\n",
    "import numpy as np\n",
    "import scipy.io\n",
    "from scipy.signal import resample\n",
    "from datasetResize import *\n",
    "from sklearn.metrics import classification_report\n",
    "import numpy as np\n",
    "import tensorflow as tf\n",
    "from tensorflow.keras.models import Sequential\n",
    "from tensorflow.keras.layers import SimpleRNN, Dense, Dropout\n",
    "from sklearn.model_selection import train_test_split\n",
    "from sklearn.preprocessing import LabelBinarizer\n",
    "from sklearn.preprocessing import LabelEncoder\n"
   ]
  },
  {
   "cell_type": "code",
   "execution_count": 13,
   "metadata": {},
   "outputs": [
    {
     "name": "stdout",
     "output_type": "stream",
     "text": [
      "  filename label\n",
      "0   A00001     N\n",
      "1   A00002     N\n",
      "2   A00003     N\n",
      "3   A00004     A\n",
      "4   A00005     A\n"
     ]
    }
   ],
   "source": [
    "# lecture du excel\n",
    "labels_df = pd.read_csv('REFERENCE-V3.csv', header=None)\n",
    "labels_df.columns = ['filename', 'label']\n",
    "\n",
    "print(labels_df.head())"
   ]
  },
  {
   "cell_type": "code",
   "execution_count": 14,
   "metadata": {},
   "outputs": [],
   "source": [
    "# Charger tous les signaux et leurs labels\n",
    "labels = []\n",
    "signals = []\n",
    "signals_padded = []\n",
    "signals_truncated = []\n",
    "\n",
    "# Initialiser avec les paramètres pour le redimensionnement\n",
    "ecg_resizer_max = ECGResizing(target_length=18286)\n",
    "ecg_resizer_med = ECGResizing(target_length=9000)\n",
    "\n",
    "for index, row in labels_df.iterrows():\n",
    "    \n",
    "    labels.append(row['label'])\n",
    "    filename = row['filename']\n",
    "    # Charger un signal ECG\n",
    "    signal = ecg_resizer_max.load_ecg(f'training2017/{filename}.mat')\n",
    "    #signals = np.append(signals,[[signal]])\n",
    "    signals.append(signal)\n",
    "\n",
    "    # Appliquer le zero padding\n",
    "    signal_padded = ecg_resizer_max.resize_signal(signal, method='padding')\n",
    "    signals_padded.append(signal_padded)\n",
    "\n",
    "    # Appliquer le tronquage\n",
    "    signal_truncated = ecg_resizer_med.resize_signal(signal, method='padding')\n",
    "    signals_truncated.append(signal_truncated)\n",
    "\n"
   ]
  },
  {
   "cell_type": "code",
   "execution_count": 15,
   "metadata": {},
   "outputs": [],
   "source": [
    "class ECG_RNN:\n",
    "    def __init__(self, input_shape, num_classes):\n",
    "        \"\"\"\n",
    "        Initialize the ECG_RNN model.\n",
    "        \n",
    "        Parameters:\n",
    "        input_shape (tuple): Shape of the input data (timesteps, features).\n",
    "        num_classes (int): Number of output classes.\n",
    "        \"\"\"\n",
    "        self.input_shape = input_shape\n",
    "        self.num_classes = num_classes\n",
    "        self.model = self.build_model()\n",
    "\n",
    "    def build_model(self):\n",
    "        \"\"\"\n",
    "        Build the RNN model.\n",
    "        \n",
    "        Returns:\n",
    "        model: Compiled RNN model.\n",
    "        \"\"\"\n",
    "        model = Sequential()\n",
    "        model.add(SimpleRNN(64, activation='relu', input_shape=self.input_shape))\n",
    "        model.add(Dropout(0.2))  # Regularization to prevent overfitting\n",
    "        model.add(Dense(32, activation='relu'))\n",
    "        model.add(Dense(self.num_classes, activation='softmax'))  # Multi-class classification\n",
    "        model.compile(loss='categorical_crossentropy', optimizer='adam', metrics=['accuracy'])\n",
    "        return model\n",
    "\n",
    "\n",
    "    def train(self, X, y, epochs=50, batch_size=32):\n",
    "        \"\"\"\n",
    "        Train the RNN model.\n",
    "        \n",
    "        Parameters:\n",
    "        X (np.array): Input data.\n",
    "        y (np.array): Labels.\n",
    "        epochs (int): Number of training epochs.\n",
    "        batch_size (int): Size of training batches.\n",
    "        \"\"\"\n",
    "        self.model.fit(X, y, epochs=epochs, batch_size=batch_size)\n",
    "\n",
    "    def evaluate(self, X, y):\n",
    "        \"\"\"\n",
    "        Evaluate the model on test data.\n",
    "        \n",
    "        Parameters:\n",
    "        X (np.array): Input test data.\n",
    "        y (np.array): Test labels.\n",
    "        \n",
    "        Returns:\n",
    "        loss, accuracy: Loss and accuracy of the model on test data.\n",
    "        \"\"\"\n",
    "        return self.model.evaluate(X, y)\n",
    "\n",
    "    def predict(self, X):\n",
    "        \"\"\"\n",
    "        Predict classes for new data.\n",
    "        \n",
    "        Parameters:\n",
    "        X (np.array): Input data for prediction.\n",
    "        \n",
    "        Returns:\n",
    "        np.array: Predicted class probabilities.\n",
    "        \"\"\"\n",
    "        return self.model.predict(X)\n"
   ]
  },
  {
   "cell_type": "code",
   "execution_count": 16,
   "metadata": {},
   "outputs": [],
   "source": [
    "# Normaliser et préparer les signaux\n",
    "X = np.array(signals_truncated)  # Convertir la liste en tableau NumPy\n",
    "X = X.reshape(X.shape[0], X.shape[1], 1)  # Reshape pour RNN (samples, timesteps, features)\n",
    "\n",
    "# Encoder les étiquettes\n",
    "le = LabelEncoder()\n",
    "y_encoded = le.fit_transform(labels)  # Encodage initial des étiquettes\n",
    "y = tf.keras.utils.to_categorical(y_encoded)  # Conversion en one-hot encoding\n",
    "\n",
    "# Séparer les données en ensembles d'entraînement et de test\n",
    "X_train, X_test, y_train, y_test = train_test_split(X, y, test_size=0.2, random_state=42)\n"
   ]
  },
  {
   "cell_type": "code",
   "execution_count": 18,
   "metadata": {},
   "outputs": [
    {
     "name": "stdout",
     "output_type": "stream",
     "text": [
      "Epoch 1/5\n",
      "\u001b[1m214/214\u001b[0m \u001b[32m━━━━━━━━━━━━━━━━━━━━\u001b[0m\u001b[37m\u001b[0m \u001b[1m123s\u001b[0m 573ms/step - accuracy: 0.4606 - loss: 3.4123\n",
      "Epoch 2/5\n",
      "\u001b[1m214/214\u001b[0m \u001b[32m━━━━━━━━━━━━━━━━━━━━\u001b[0m\u001b[37m\u001b[0m \u001b[1m93s\u001b[0m 435ms/step - accuracy: 0.5295 - loss: 1.6454\n",
      "Epoch 3/5\n",
      "\u001b[1m214/214\u001b[0m \u001b[32m━━━━━━━━━━━━━━━━━━━━\u001b[0m\u001b[37m\u001b[0m \u001b[1m101s\u001b[0m 471ms/step - accuracy: 0.5495 - loss: 1.4070\n",
      "Epoch 4/5\n",
      "\u001b[1m214/214\u001b[0m \u001b[32m━━━━━━━━━━━━━━━━━━━━\u001b[0m\u001b[37m\u001b[0m \u001b[1m105s\u001b[0m 489ms/step - accuracy: 0.5541 - loss: 1.3254\n",
      "Epoch 5/5\n",
      "\u001b[1m214/214\u001b[0m \u001b[32m━━━━━━━━━━━━━━━━━━━━\u001b[0m\u001b[37m\u001b[0m \u001b[1m108s\u001b[0m 504ms/step - accuracy: 0.5701 - loss: 1.1720\n"
     ]
    }
   ],
   "source": [
    "# Définir la forme d'entrée et le nombre de classes\n",
    "input_shape = (X.shape[1], 1)  # (timesteps, features)\n",
    "num_classes = y.shape[1]  # Nombre de classes\n",
    "\n",
    "# Créer une instance de ECG_RNN\n",
    "ecg_rnn = ECG_RNN(input_shape=input_shape, num_classes=num_classes)\n",
    "\n",
    "# Entraîner le modèle\n",
    "ecg_rnn.train(X_train, y_train, epochs=5, batch_size=32)\n"
   ]
  },
  {
   "cell_type": "code",
   "execution_count": 19,
   "metadata": {},
   "outputs": [
    {
     "name": "stdout",
     "output_type": "stream",
     "text": [
      "\u001b[1m54/54\u001b[0m \u001b[32m━━━━━━━━━━━━━━━━━━━━\u001b[0m\u001b[37m\u001b[0m \u001b[1m8s\u001b[0m 143ms/step\n",
      "              precision    recall  f1-score   support\n",
      "\n",
      "           N       0.00      0.00      0.00       140\n",
      "           A       0.61      0.99      0.76      1044\n",
      "           O       0.39      0.02      0.04       473\n",
      "           ~       0.00      0.00      0.00        49\n",
      "\n",
      "    accuracy                           0.61      1706\n",
      "   macro avg       0.25      0.25      0.20      1706\n",
      "weighted avg       0.48      0.61      0.47      1706\n",
      "\n"
     ]
    },
    {
     "name": "stderr",
     "output_type": "stream",
     "text": [
      "c:\\Users\\Albus\\anaconda3\\Lib\\site-packages\\sklearn\\metrics\\_classification.py:1469: UndefinedMetricWarning: Precision and F-score are ill-defined and being set to 0.0 in labels with no predicted samples. Use `zero_division` parameter to control this behavior.\n",
      "  _warn_prf(average, modifier, msg_start, len(result))\n",
      "c:\\Users\\Albus\\anaconda3\\Lib\\site-packages\\sklearn\\metrics\\_classification.py:1469: UndefinedMetricWarning: Precision and F-score are ill-defined and being set to 0.0 in labels with no predicted samples. Use `zero_division` parameter to control this behavior.\n",
      "  _warn_prf(average, modifier, msg_start, len(result))\n",
      "c:\\Users\\Albus\\anaconda3\\Lib\\site-packages\\sklearn\\metrics\\_classification.py:1469: UndefinedMetricWarning: Precision and F-score are ill-defined and being set to 0.0 in labels with no predicted samples. Use `zero_division` parameter to control this behavior.\n",
      "  _warn_prf(average, modifier, msg_start, len(result))\n"
     ]
    }
   ],
   "source": [
    "import numpy as np\n",
    "from sklearn.metrics import classification_report\n",
    "\n",
    "# Supposons que X_test est tes données de test\n",
    "# Effectuer des prédictions sur les données de test\n",
    "predicted_probs = ecg_rnn.model.predict(X_test)\n",
    "\n",
    "# Convertir les probabilités en classes prédites\n",
    "predicted_classes = np.argmax(predicted_probs, axis=1)\n",
    "\n",
    "# Si y_test est en one-hot encoding, convertir aussi en classes\n",
    "y_test_encoded = np.argmax(y_test, axis=1)\n",
    "\n",
    "# Générer le rapport de classification\n",
    "report = classification_report(y_test_encoded, predicted_classes, target_names=['N', 'A', 'O', '~'])\n",
    "print(report)\n"
   ]
  }
 ],
 "metadata": {
  "kernelspec": {
   "display_name": "base",
   "language": "python",
   "name": "python3"
  },
  "language_info": {
   "codemirror_mode": {
    "name": "ipython",
    "version": 3
   },
   "file_extension": ".py",
   "mimetype": "text/x-python",
   "name": "python",
   "nbconvert_exporter": "python",
   "pygments_lexer": "ipython3",
   "version": "3.11.5"
  }
 },
 "nbformat": 4,
 "nbformat_minor": 2
}
