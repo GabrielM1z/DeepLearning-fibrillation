{
 "cells": [
  {
   "cell_type": "code",
   "execution_count": 30,
   "metadata": {},
   "outputs": [],
   "source": [
    "import torch\n",
    "import torch.nn as nn\n",
    "import torch.optim as optim\n",
    "import numpy as np\n",
    "import matplotlib.pyplot as plt\n",
    "import pandas as pd\n",
    "import numpy as np\n",
    "import scipy.io\n",
    "from scipy.signal import resample\n"
   ]
  },
  {
   "cell_type": "code",
   "execution_count": 31,
   "metadata": {},
   "outputs": [],
   "source": [
    "labels_df = pd.read_csv('REFERENCE-v3.csv', header=None)\n",
    "labels_df.columns = ['filename', 'label']\n",
    "\n",
    "# Fonction pour charger un fichier ECG au format .mat\n",
    "def load_ecg_file(filename):\n",
    "    mat = scipy.io.loadmat(f'training2017/{filename}.mat')\n",
    "    signal = mat['val'][0]\n",
    "    return signal"
   ]
  },
  {
   "cell_type": "code",
   "execution_count": 32,
   "metadata": {},
   "outputs": [
    {
     "name": "stdout",
     "output_type": "stream",
     "text": [
      "[-127 -162 -197 -229 -245 -254 -261 -265 -268 -268]\n",
      "9000\n"
     ]
    }
   ],
   "source": [
    "example_signal = load_ecg_file(labels_df['filename'].iloc[0])\n",
    "print(example_signal[:10])\n",
    "print(len(example_signal))"
   ]
  },
  {
   "cell_type": "code",
   "execution_count": 33,
   "metadata": {},
   "outputs": [
    {
     "name": "stdout",
     "output_type": "stream",
     "text": [
      "[ -86.09377424 -285.3294793  -185.02034692 -269.329934    104.63599691\n",
      " -199.91048176  -43.23759037   44.44623751   35.64991909  126.02866827\n",
      "  149.96457007  338.9555403   260.51561158   88.43924386   11.5876541\n",
      " -483.0757818  -562.87428834 -353.16632079  106.16229898    9.83256683\n",
      "  -74.91087094  177.18789248  146.56026921   55.6490158   167.78126219\n",
      "   19.32176288  234.6480642   104.58702469  -47.36326762   66.63623167\n",
      "   -6.70483045  -11.37414113   24.66255914  -26.14973227  150.78780592\n",
      "  105.81242612 -113.62434463   55.89158899  -25.93342562  -27.87917845\n",
      "   29.85168779  -14.05313866  237.0854506     3.53035779  -33.87587388\n",
      "   42.34202002  -13.38152309  -20.75539866   33.57937055  -13.44632366\n",
      "  244.58668211  -15.81143209  -37.56283803   40.32654927  -28.87352829\n",
      "  -10.87580302   37.35561505  -12.26090752  213.72858202   41.31701895\n",
      "  -78.17941326   60.43810715  -57.41309765  -17.52953383   15.0969719\n",
      "   -2.28361861  212.09862029   89.64702111  -68.94717011   49.59725565\n",
      " -110.02183194 -189.05840154 -288.12846289  -14.02518856  137.83773334\n",
      " -365.12274353   98.95132681  606.80789638  283.3505699    50.84661135\n",
      "  -45.60050541  -87.5913878   109.06686383  -81.47282047  -90.33761431\n",
      "   44.09371989  -46.32264892  -21.58881977  -14.70016992  -71.8167912\n",
      "  176.78756703   51.32059775  -67.54034746   75.59279585  -49.98591131\n",
      "    3.70242865    1.28657287    4.79876765  214.18737687   36.55942346\n",
      "  -54.73099288   49.03805099  -88.10757432  -34.52170097   -2.85538945\n",
      "   -4.40683464  222.40603606   12.65546794   -9.09051083   84.36317543\n",
      "  -55.54168881    3.88969764   -5.59356978    6.8501832   196.98026819\n",
      "   58.85103863  -59.63729462  113.3972767   -70.51289588   -4.05315402\n",
      "  -24.39083625  -20.6604815    82.99770782  108.7512928  -150.95637178\n",
      "  114.25441343  -69.85325298   26.134521     14.46124888   53.32659712\n",
      "  147.24894945   85.22223821  -76.98350376  111.8223966  -113.25991427\n",
      "   29.44644787  -66.89695427   85.61055097  143.13482625  -51.21288879\n",
      "   22.73120606   59.92576137  -54.58686505   81.3684138   -46.20819755\n",
      "  156.55799265   88.0690396   -82.55403024   60.8715301   -33.03101782\n",
      "  -69.52870739   13.1630812   -37.32676975  197.69536339  -58.30221277\n",
      "  -42.28190739   57.46930101  -59.88601594   26.87882646   -7.30898751\n",
      "   82.32219061  193.7524791   -95.4383909    75.95935207   -3.11293222\n",
      "  -18.8077727    35.58988082   22.0601203   194.1357669   -48.43403436\n",
      "    8.89011477   45.45765359  -74.32880007   44.27301996  -31.10350166\n",
      "  210.11541632  -12.23876449  -54.41671702   84.03953777  -47.59677883\n",
      "   38.09407371  -15.69420831  105.88368953  155.70679745 -127.85575785\n",
      "   35.97676149  -39.77565285  -54.42058316   47.25375078    8.94117076\n",
      "  254.42052965   22.22748859  -34.73636963   99.87618106  -47.81604097\n",
      "   24.19685635   -8.17429152   28.44725974  160.93631806  -92.8094038\n",
      "   -9.18032278   18.1202425   -83.25678413   50.65324507  -28.82075924\n",
      "  177.88429386   21.49151208  -73.03126254   73.61218535  -76.46819074\n",
      "   23.16623153  -16.60607048   96.4529729   177.07680357 -118.33729745\n",
      "   61.33668952  -18.4031994   -31.02278885   33.12437611    4.2224844\n",
      "  232.3996758   -38.44831439  -21.53955468   66.02542401  -84.29738827\n",
      "   32.01079507  -46.92276405  133.14109058   55.1844046   -95.47619637\n",
      "   94.28148712  -74.04590448   33.40256516  -22.33963639  129.98897922\n",
      "  120.31792442  -93.48911579  100.01975011  -32.70572234   32.59205651\n",
      "    6.82943728   77.08959601  232.48788577  -79.51745881   57.70289903\n",
      "   20.12621623  -48.27511822   41.26262845  -15.01155073  210.41116469\n",
      "    7.23349911  -82.92595312   87.67467812  -88.26536209   38.98607813\n",
      "  -40.30946516  143.79293686   43.87386687  -95.95306785   83.97808392\n",
      "  -58.35512897   18.8810761   -19.04165674  132.16452095  119.09394389\n",
      " -124.41148776  103.17525529  -65.09825958   10.73835251  -30.09798077\n",
      "   82.59091791  183.7700773   -82.99154219   31.02756485   46.62859768\n",
      "  -60.8104701    56.04352048  -42.86609541  207.57610591   45.40351256\n",
      "  -91.63225659   63.52151185  -41.85998525  -25.67778751   23.50059044\n",
      "   10.73367175  242.05765391  -46.16631447  -20.31714875   62.25381455\n",
      "  -72.94856694   38.53295059  -26.91981546  131.58271363  132.4777101\n",
      " -100.35741803   93.99040231  -58.8049457    -0.88066261    6.95795269]\n"
     ]
    }
   ],
   "source": [
    "def preprocess_signal(signal, target_length=300):\n",
    "    return resample(signal, target_length)\n",
    "\n",
    "# Prétraitement d'un exemple de signal\n",
    "preprocessed_signal = preprocess_signal(example_signal)\n",
    "print(preprocessed_signal)\n"
   ]
  },
  {
   "cell_type": "code",
   "execution_count": 34,
   "metadata": {},
   "outputs": [],
   "source": [
    "from torch.utils.data import Dataset, DataLoader\n",
    "\n",
    "class ECGDataset(Dataset):\n",
    "    def __init__(self, labels_df):\n",
    "        self.labels_df = labels_df\n",
    "\n",
    "    def __len__(self):\n",
    "        return len(self.labels_df)\n",
    "\n",
    "    def __getitem__(self, idx):\n",
    "        filename = self.labels_df.iloc[idx, 0]\n",
    "        label = self.labels_df.iloc[idx, 1]\n",
    "        signal = preprocess_signal(load_ecg_file(filename))\n",
    "        return torch.tensor(signal, dtype=torch.float32), label\n",
    "\n",
    "# Créer le Dataset\n",
    "dataset = ECGDataset(labels_df)\n",
    "dataloader = DataLoader(dataset, batch_size=32, shuffle=True)\n"
   ]
  },
  {
   "cell_type": "code",
   "execution_count": 35,
   "metadata": {},
   "outputs": [],
   "source": [
    "class ECG_RNN(nn.Module):\n",
    "    def __init__(self, input_size, hidden_size, output_size, num_layers=1):\n",
    "        super(ECG_RNN, self).__init__()\n",
    "        self.hidden_size = hidden_size\n",
    "        self.num_layers = num_layers\n",
    "        # RNN layer\n",
    "        self.rnn = nn.RNN(input_size, hidden_size, num_layers, batch_first=True)\n",
    "        # Fully connected layer for classification\n",
    "        self.fc = nn.Linear(hidden_size, output_size)\n",
    "\n",
    "    def forward(self, x):\n",
    "        # Initialize hidden state with zeros\n",
    "        h0 = torch.zeros(self.num_layers, x.size(0), self.hidden_size).to(x.device)\n",
    "        # Forward propagate the RNN\n",
    "        out, _ = self.rnn(x, h0)\n",
    "        # We only need the output of the last time step\n",
    "        out = self.fc(out[:, -1, :])\n",
    "        return out\n",
    "\n",
    "# Paramètres du modèle\n",
    "input_size = 1  # 1D signal\n",
    "hidden_size = 64\n",
    "output_size = 4  # N, AF, Other, Noisy\n",
    "model = ECG_RNN(input_size, hidden_size, output_size)\n"
   ]
  },
  {
   "cell_type": "code",
   "execution_count": 36,
   "metadata": {},
   "outputs": [],
   "source": [
    "criterion = nn.CrossEntropyLoss()\n",
    "optimizer = optim.Adam(model.parameters(), lr=0.001)\n"
   ]
  },
  {
   "cell_type": "code",
   "execution_count": 37,
   "metadata": {},
   "outputs": [
    {
     "name": "stdout",
     "output_type": "stream",
     "text": [
      "Epoch [1/10], Loss: 0.8491\n",
      "Epoch [2/10], Loss: 0.8386\n",
      "Epoch [3/10], Loss: 0.9993\n",
      "Epoch [4/10], Loss: 0.8614\n",
      "Epoch [5/10], Loss: 0.9071\n",
      "Epoch [6/10], Loss: 0.7822\n",
      "Epoch [7/10], Loss: 1.1803\n",
      "Epoch [8/10], Loss: 1.0016\n",
      "Epoch [9/10], Loss: 0.7980\n",
      "Epoch [10/10], Loss: 1.1349\n"
     ]
    }
   ],
   "source": [
    "num_epochs = 10\n",
    "\n",
    "for epoch in range(num_epochs):\n",
    "    for signals, labels in dataloader:\n",
    "        signals = signals.unsqueeze(-1)  # Ajouter une dimension pour l'entrée RNN (batch_size, sequence_length, input_size)\n",
    "        labels = torch.tensor([{'N': 0, 'A': 1, 'O': 2, '~': 3}[l] for l in labels])\n",
    "        \n",
    "        # Clear gradients\n",
    "        optimizer.zero_grad()\n",
    "        \n",
    "        # Forward pass\n",
    "        outputs = model(signals)\n",
    "        loss = criterion(outputs, labels)\n",
    "        \n",
    "        # Backward pass and optimization\n",
    "        loss.backward()\n",
    "        optimizer.step()\n",
    "\n",
    "    print(f'Epoch [{epoch+1}/{num_epochs}], Loss: {loss.item():.4f}')\n"
   ]
  },
  {
   "cell_type": "code",
   "execution_count": 20,
   "metadata": {},
   "outputs": [
    {
     "name": "stdout",
     "output_type": "stream",
     "text": [
      "              precision    recall  f1-score   support\n",
      "\n",
      "           N       0.60      1.00      0.75      5076\n",
      "           A       0.00      0.00      0.00       758\n",
      "           O       0.00      0.00      0.00      2415\n",
      "           ~       0.27      0.04      0.07       279\n",
      "\n",
      "    accuracy                           0.59      8528\n",
      "   macro avg       0.22      0.26      0.20      8528\n",
      "weighted avg       0.36      0.59      0.45      8528\n",
      "\n"
     ]
    },
    {
     "name": "stderr",
     "output_type": "stream",
     "text": [
      "c:\\Users\\Albus\\anaconda3\\Lib\\site-packages\\sklearn\\metrics\\_classification.py:1469: UndefinedMetricWarning: Precision and F-score are ill-defined and being set to 0.0 in labels with no predicted samples. Use `zero_division` parameter to control this behavior.\n",
      "  _warn_prf(average, modifier, msg_start, len(result))\n",
      "c:\\Users\\Albus\\anaconda3\\Lib\\site-packages\\sklearn\\metrics\\_classification.py:1469: UndefinedMetricWarning: Precision and F-score are ill-defined and being set to 0.0 in labels with no predicted samples. Use `zero_division` parameter to control this behavior.\n",
      "  _warn_prf(average, modifier, msg_start, len(result))\n",
      "c:\\Users\\Albus\\anaconda3\\Lib\\site-packages\\sklearn\\metrics\\_classification.py:1469: UndefinedMetricWarning: Precision and F-score are ill-defined and being set to 0.0 in labels with no predicted samples. Use `zero_division` parameter to control this behavior.\n",
      "  _warn_prf(average, modifier, msg_start, len(result))\n"
     ]
    }
   ],
   "source": [
    "label_mapping = {'N': 0, 'A': 1, 'O': 2, '~': 3}\n",
    "\n",
    "# Modification dans la boucle d'évaluation\n",
    "model.eval()\n",
    "y_true = []\n",
    "y_pred = []\n",
    "\n",
    "with torch.no_grad():\n",
    "    for signals, labels in dataloader:\n",
    "        signals = signals.unsqueeze(-1)\n",
    "        outputs = model(signals)\n",
    "        _, predicted = torch.max(outputs.data, 1)\n",
    "        \n",
    "        # Convertir les labels (y_true) en nombres\n",
    "        labels = torch.tensor([label_mapping[l] for l in labels])\n",
    "\n",
    "        y_true.extend(labels)\n",
    "        y_pred.extend(predicted)\n",
    "\n",
    "# Générer le rapport de classification\n",
    "print(classification_report(y_true, y_pred, target_names=['N', 'A', 'O', '~']))\n"
   ]
  }
 ],
 "metadata": {
  "kernelspec": {
   "display_name": "base",
   "language": "python",
   "name": "python3"
  },
  "language_info": {
   "codemirror_mode": {
    "name": "ipython",
    "version": 3
   },
   "file_extension": ".py",
   "mimetype": "text/x-python",
   "name": "python",
   "nbconvert_exporter": "python",
   "pygments_lexer": "ipython3",
   "version": "3.11.5"
  }
 },
 "nbformat": 4,
 "nbformat_minor": 2
}
